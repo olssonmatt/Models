{
 "cells": [
  {
   "cell_type": "markdown",
   "id": "d1c49012",
   "metadata": {},
   "source": [
    "# Models\n",
    "***\n",
    " - The overall goal of this project is to create financial models of companies that can be used for a machine learning project\n",
    " - I plan to look into approaching this from a macroeconomic view and from a quantitative analysis view\n",
    "    - To garner the macroeconomic view, I will look at Bridgewater Asscociates or Blackrock to see how this company runs and gain insight \n",
    "    - For a quantitaive analysis view, I will look towards Point 72 or DE Shaw but I am sure my opinions will waiver when I get more information and knowledge on this view\n",
    "    \n",
    "### Macroeconomic Investing\n",
    " - To start, I plan to take notes on macroeconomics and upload them to my notes page\n",
    " - Then I would I like to leverage open data, most likely by the Bank of Canada's API to see some trends in the real world data\n",
    "    - Mainly to help with visualization and applicaton\n",
    " - This would hopefully further my knowledge into how GDP, inflation, bonds, etc. \n",
    " - Furthermore, I would then try to learn how a macroeconomics analyst would use the data to make decisions on whether to buy, sell, or hold in my position\n",
    " \n",
    "### KEY IDEAS TO KEEP IN MIND & LINKS\n",
    " - GAAP analysis\n",
    " - AUM: Assests under management\n",
    "     - [investopedia](https://www.investopedia.com/terms/a/aum.asp)\n",
    " - quantitative analysis\n",
    "     - [investopedia](https://www.investopedia.com/articles/trading/09/quant-strategies.asp)\n",
    "     - [lehner investments](https://www.lehnerinvestments.com/en/quantitative-investing-introduction/)\n",
    " - MACROECONOMIC KEY INDICATORS\n",
    "     - [What are the key macroeconomic indicators to watch?](https://www.ig.com/en/trading-strategies/what-are-the-key-macroeconomic-indicators-to-watch--191014)\n",
    "     - [What Are Macroeconomic Indicators?](https://www.xtb.com/en/education/macroeconomic-indicators)\n",
    " - BlackRock [MacroTake](https://www.blackrock.com/corporate/insights/blackrock-investment-institute/economic-insights)\n",
    " - [Statiscal Arbitrage](https://en.wikipedia.org/wiki/Statistical_arbitrage)\n",
    " - James Jani \n",
    "     - [The Stock Market & Investing: An Ultimate Guide](https://www.youtube.com/watch?v=_MeZt4LBnCE)\n",
    "     - [The Untold Truth About Money: How to Build Wealth From Nothing.](https://www.youtube.com/watch?v=6mRbDEtDoyA)\n",
    "     - [Escaping the Rat Race: What School Failed to Teach You About Money.](https://www.youtube.com/watch?v=9RJpIqD8MGg)\n",
    "     - [How to Profit from a Recession: A Guide to Investing During an Economic Collapse.](https://www.youtube.com/watch?v=mRHBrJziE-Y)\n",
    " - [Billionaire Mathematician - Numberphile](https://www.youtube.com/watch?v=gjVDqfUhXOY)\n",
    " - Martin Shkreli \n",
    "     - [Building a Financial Model From the Start & Golden Tips](https://www.youtube.com/watch?v=6ks11dmBG8Q)\n",
    "     - [Stock Analysis Guide](https://www.youtube.com/watch?v=sx_l6lCjX2c)\n",
    "     - [Github](https://github.com/martinshkreli/models)"
   ]
  },
  {
   "cell_type": "markdown",
   "id": "e1436d40",
   "metadata": {},
   "source": [
    "# Macroeconomic Models\n",
    "\n"
   ]
  },
  {
   "cell_type": "code",
   "execution_count": null,
   "id": "98fba1ed",
   "metadata": {},
   "outputs": [],
   "source": []
  }
 ],
 "metadata": {
  "kernelspec": {
   "display_name": "Python 3 (ipykernel)",
   "language": "python",
   "name": "python3"
  },
  "language_info": {
   "codemirror_mode": {
    "name": "ipython",
    "version": 3
   },
   "file_extension": ".py",
   "mimetype": "text/x-python",
   "name": "python",
   "nbconvert_exporter": "python",
   "pygments_lexer": "ipython3",
   "version": "3.9.7"
  }
 },
 "nbformat": 4,
 "nbformat_minor": 5
}
